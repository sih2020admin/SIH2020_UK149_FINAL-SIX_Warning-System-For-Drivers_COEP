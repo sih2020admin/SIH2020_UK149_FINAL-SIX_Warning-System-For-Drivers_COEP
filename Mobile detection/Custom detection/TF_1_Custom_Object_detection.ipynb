{
  "nbformat": 4,
  "nbformat_minor": 0,
  "metadata": {
    "colab": {
      "name": "TF_1_Custom_Object_detection.ipynb",
      "provenance": [],
      "collapsed_sections": [
        "gHqxsizCqUaP",
        "9dcNyhtBn2YU",
        "yOdlD0UDn9F-",
        "Xbfv4BQsoS5Q",
        "GXn_ulrB5xWC"
      ],
      "toc_visible": true
    },
    "kernelspec": {
      "display_name": "Python 3",
      "language": "python",
      "name": "python3"
    },
    "language_info": {
      "codemirror_mode": {
        "name": "ipython",
        "version": 3
      },
      "file_extension": ".py",
      "mimetype": "text/x-python",
      "name": "python",
      "nbconvert_exporter": "python",
      "pygments_lexer": "ipython3",
      "version": "3.7.3"
    },
    "accelerator": "GPU"
  },
  "cells": [
    {
      "cell_type": "markdown",
      "metadata": {
        "colab_type": "text",
        "id": "gHqxsizCqUaP"
      },
      "source": [
        "# Installing the Tensorflow Object Detection API"
      ]
    },
    {
      "cell_type": "markdown",
      "metadata": {
        "colab_type": "text",
        "id": "9dcNyhtBn2YU"
      },
      "source": [
        "#### Clone the repository and install dependencies."
      ]
    },
    {
      "cell_type": "code",
      "metadata": {
        "id": "zAOsaaAGHxd9",
        "colab_type": "code",
        "colab": {
          "base_uri": "https://localhost:8080/",
          "height": 0
        },
        "outputId": "a77ee594-2549-4bb8-c349-78e5faa4c973"
      },
      "source": [
        "%tensorflow_version 1.x"
      ],
      "execution_count": 1,
      "outputs": [
        {
          "output_type": "stream",
          "text": [
            "TensorFlow 1.x selected.\n"
          ],
          "name": "stdout"
        }
      ]
    },
    {
      "cell_type": "code",
      "metadata": {
        "colab_type": "code",
        "id": "KndCWKEfqldN",
        "colab": {
          "base_uri": "https://localhost:8080/",
          "height": 0
        },
        "outputId": "375d704f-ec59-48a0-d351-4e1b57975b18"
      },
      "source": [
        "!git clone -q https://github.com/tensorflow/models.git\n",
        "!pip install -qU Cython contextlib2 pillow lxml jupyter matplotlib googledrivedownloader"
      ],
      "execution_count": 2,
      "outputs": [
        {
          "output_type": "stream",
          "text": [
            "\u001b[K     |████████████████████████████████| 2.2MB 10.0MB/s \n",
            "\u001b[K     |████████████████████████████████| 5.5MB 21.1MB/s \n",
            "\u001b[K     |████████████████████████████████| 11.5MB 54.1MB/s \n",
            "\u001b[31mERROR: albumentations 0.1.12 has requirement imgaug<0.2.7,>=0.2.5, but you'll have imgaug 0.2.9 which is incompatible.\u001b[0m\n",
            "\u001b[?25h"
          ],
          "name": "stdout"
        }
      ]
    },
    {
      "cell_type": "markdown",
      "metadata": {
        "colab_type": "text",
        "id": "yOdlD0UDn9F-"
      },
      "source": [
        "#### Install the COCO API"
      ]
    },
    {
      "cell_type": "code",
      "metadata": {
        "colab_type": "code",
        "id": "k9it4DZsqzeb",
        "scrolled": true,
        "colab": {
          "base_uri": "https://localhost:8080/",
          "height": 0
        },
        "outputId": "d547a9e1-68eb-433f-fce7-13e6458b9a5e"
      },
      "source": [
        "!git clone -q https://github.com/cocodataset/cocoapi.git\n",
        "%cd cocoapi/PythonAPI\n",
        "!make\n",
        "%cd ../../\n",
        "%cp -r cocoapi/PythonAPI/pycocotools models/research/"
      ],
      "execution_count": 3,
      "outputs": [
        {
          "output_type": "stream",
          "text": [
            "/content/cocoapi/PythonAPI\n",
            "python setup.py build_ext --inplace\n",
            "running build_ext\n",
            "cythoning pycocotools/_mask.pyx to pycocotools/_mask.c\n",
            "/usr/local/lib/python3.6/dist-packages/Cython/Compiler/Main.py:369: FutureWarning: Cython directive 'language_level' not set, using 2 for now (Py2). This will change in a later release! File: /content/cocoapi/PythonAPI/pycocotools/_mask.pyx\n",
            "  tree = Parsing.p_module(s, pxd, full_module_name)\n",
            "building 'pycocotools._mask' extension\n",
            "creating build\n",
            "creating build/common\n",
            "creating build/temp.linux-x86_64-3.6\n",
            "creating build/temp.linux-x86_64-3.6/pycocotools\n",
            "x86_64-linux-gnu-gcc -pthread -DNDEBUG -g -fwrapv -O2 -Wall -g -fstack-protector-strong -Wformat -Werror=format-security -Wdate-time -D_FORTIFY_SOURCE=2 -fPIC -I/usr/local/lib/python3.6/dist-packages/numpy/core/include -I../common -I/usr/include/python3.6m -c ../common/maskApi.c -o build/temp.linux-x86_64-3.6/../common/maskApi.o -Wno-cpp -Wno-unused-function -std=c99\n",
            "\u001b[01m\u001b[K../common/maskApi.c:\u001b[m\u001b[K In function ‘\u001b[01m\u001b[KrleDecode\u001b[m\u001b[K’:\n",
            "\u001b[01m\u001b[K../common/maskApi.c:46:7:\u001b[m\u001b[K \u001b[01;35m\u001b[Kwarning: \u001b[m\u001b[Kthis ‘\u001b[01m\u001b[Kfor\u001b[m\u001b[K’ clause does not guard... [\u001b[01;35m\u001b[K-Wmisleading-indentation\u001b[m\u001b[K]\n",
            "       \u001b[01;35m\u001b[Kfor\u001b[m\u001b[K( k=0; k<R[i].cnts[j]; k++ ) *(M++)=v; v=!v; }}\n",
            "       \u001b[01;35m\u001b[K^~~\u001b[m\u001b[K\n",
            "\u001b[01m\u001b[K../common/maskApi.c:46:49:\u001b[m\u001b[K \u001b[01;36m\u001b[Knote: \u001b[m\u001b[K...this statement, but the latter is misleadingly indented as if it were guarded by the ‘\u001b[01m\u001b[Kfor\u001b[m\u001b[K’\n",
            "       for( k=0; k<R[i].cnts[j]; k++ ) *(M++)=v; \u001b[01;36m\u001b[Kv\u001b[m\u001b[K=!v; }}\n",
            "                                                 \u001b[01;36m\u001b[K^\u001b[m\u001b[K\n",
            "\u001b[01m\u001b[K../common/maskApi.c:\u001b[m\u001b[K In function ‘\u001b[01m\u001b[KrleFrPoly\u001b[m\u001b[K’:\n",
            "\u001b[01m\u001b[K../common/maskApi.c:166:3:\u001b[m\u001b[K \u001b[01;35m\u001b[Kwarning: \u001b[m\u001b[Kthis ‘\u001b[01m\u001b[Kfor\u001b[m\u001b[K’ clause does not guard... [\u001b[01;35m\u001b[K-Wmisleading-indentation\u001b[m\u001b[K]\n",
            "   \u001b[01;35m\u001b[Kfor\u001b[m\u001b[K(j=0; j<k; j++) x[j]=(int)(scale*xy[j*2+0]+.5); x[k]=x[0];\n",
            "   \u001b[01;35m\u001b[K^~~\u001b[m\u001b[K\n",
            "\u001b[01m\u001b[K../common/maskApi.c:166:54:\u001b[m\u001b[K \u001b[01;36m\u001b[Knote: \u001b[m\u001b[K...this statement, but the latter is misleadingly indented as if it were guarded by the ‘\u001b[01m\u001b[Kfor\u001b[m\u001b[K’\n",
            "   for(j=0; j<k; j++) x[j]=(int)(scale*xy[j*2+0]+.5); \u001b[01;36m\u001b[Kx\u001b[m\u001b[K[k]=x[0];\n",
            "                                                      \u001b[01;36m\u001b[K^\u001b[m\u001b[K\n",
            "\u001b[01m\u001b[K../common/maskApi.c:167:3:\u001b[m\u001b[K \u001b[01;35m\u001b[Kwarning: \u001b[m\u001b[Kthis ‘\u001b[01m\u001b[Kfor\u001b[m\u001b[K’ clause does not guard... [\u001b[01;35m\u001b[K-Wmisleading-indentation\u001b[m\u001b[K]\n",
            "   \u001b[01;35m\u001b[Kfor\u001b[m\u001b[K(j=0; j<k; j++) y[j]=(int)(scale*xy[j*2+1]+.5); y[k]=y[0];\n",
            "   \u001b[01;35m\u001b[K^~~\u001b[m\u001b[K\n",
            "\u001b[01m\u001b[K../common/maskApi.c:167:54:\u001b[m\u001b[K \u001b[01;36m\u001b[Knote: \u001b[m\u001b[K...this statement, but the latter is misleadingly indented as if it were guarded by the ‘\u001b[01m\u001b[Kfor\u001b[m\u001b[K’\n",
            "   for(j=0; j<k; j++) y[j]=(int)(scale*xy[j*2+1]+.5); \u001b[01;36m\u001b[Ky\u001b[m\u001b[K[k]=y[0];\n",
            "                                                      \u001b[01;36m\u001b[K^\u001b[m\u001b[K\n",
            "\u001b[01m\u001b[K../common/maskApi.c:\u001b[m\u001b[K In function ‘\u001b[01m\u001b[KrleToString\u001b[m\u001b[K’:\n",
            "\u001b[01m\u001b[K../common/maskApi.c:212:7:\u001b[m\u001b[K \u001b[01;35m\u001b[Kwarning: \u001b[m\u001b[Kthis ‘\u001b[01m\u001b[Kif\u001b[m\u001b[K’ clause does not guard... [\u001b[01;35m\u001b[K-Wmisleading-indentation\u001b[m\u001b[K]\n",
            "       \u001b[01;35m\u001b[Kif\u001b[m\u001b[K(more) c |= 0x20; c+=48; s[p++]=c;\n",
            "       \u001b[01;35m\u001b[K^~\u001b[m\u001b[K\n",
            "\u001b[01m\u001b[K../common/maskApi.c:212:27:\u001b[m\u001b[K \u001b[01;36m\u001b[Knote: \u001b[m\u001b[K...this statement, but the latter is misleadingly indented as if it were guarded by the ‘\u001b[01m\u001b[Kif\u001b[m\u001b[K’\n",
            "       if(more) c |= 0x20; \u001b[01;36m\u001b[Kc\u001b[m\u001b[K+=48; s[p++]=c;\n",
            "                           \u001b[01;36m\u001b[K^\u001b[m\u001b[K\n",
            "\u001b[01m\u001b[K../common/maskApi.c:\u001b[m\u001b[K In function ‘\u001b[01m\u001b[KrleFrString\u001b[m\u001b[K’:\n",
            "\u001b[01m\u001b[K../common/maskApi.c:220:3:\u001b[m\u001b[K \u001b[01;35m\u001b[Kwarning: \u001b[m\u001b[Kthis ‘\u001b[01m\u001b[Kwhile\u001b[m\u001b[K’ clause does not guard... [\u001b[01;35m\u001b[K-Wmisleading-indentation\u001b[m\u001b[K]\n",
            "   \u001b[01;35m\u001b[Kwhile\u001b[m\u001b[K( s[m] ) m++; cnts=malloc(sizeof(uint)*m); m=0;\n",
            "   \u001b[01;35m\u001b[K^~~~~\u001b[m\u001b[K\n",
            "\u001b[01m\u001b[K../common/maskApi.c:220:22:\u001b[m\u001b[K \u001b[01;36m\u001b[Knote: \u001b[m\u001b[K...this statement, but the latter is misleadingly indented as if it were guarded by the ‘\u001b[01m\u001b[Kwhile\u001b[m\u001b[K’\n",
            "   while( s[m] ) m++; \u001b[01;36m\u001b[Kcnts\u001b[m\u001b[K=malloc(sizeof(uint)*m); m=0;\n",
            "                      \u001b[01;36m\u001b[K^~~~\u001b[m\u001b[K\n",
            "\u001b[01m\u001b[K../common/maskApi.c:228:5:\u001b[m\u001b[K \u001b[01;35m\u001b[Kwarning: \u001b[m\u001b[Kthis ‘\u001b[01m\u001b[Kif\u001b[m\u001b[K’ clause does not guard... [\u001b[01;35m\u001b[K-Wmisleading-indentation\u001b[m\u001b[K]\n",
            "     \u001b[01;35m\u001b[Kif\u001b[m\u001b[K(m>2) x+=(long) cnts[m-2]; cnts[m++]=(uint) x;\n",
            "     \u001b[01;35m\u001b[K^~\u001b[m\u001b[K\n",
            "\u001b[01m\u001b[K../common/maskApi.c:228:34:\u001b[m\u001b[K \u001b[01;36m\u001b[Knote: \u001b[m\u001b[K...this statement, but the latter is misleadingly indented as if it were guarded by the ‘\u001b[01m\u001b[Kif\u001b[m\u001b[K’\n",
            "     if(m>2) x+=(long) cnts[m-2]; \u001b[01;36m\u001b[Kcnts\u001b[m\u001b[K[m++]=(uint) x;\n",
            "                                  \u001b[01;36m\u001b[K^~~~\u001b[m\u001b[K\n",
            "\u001b[01m\u001b[K../common/maskApi.c:\u001b[m\u001b[K In function ‘\u001b[01m\u001b[KrleToBbox\u001b[m\u001b[K’:\n",
            "\u001b[01m\u001b[K../common/maskApi.c:141:31:\u001b[m\u001b[K \u001b[01;35m\u001b[Kwarning: \u001b[m\u001b[K‘\u001b[01m\u001b[Kxp\u001b[m\u001b[K’ may be used uninitialized in this function [\u001b[01;35m\u001b[K-Wmaybe-uninitialized\u001b[m\u001b[K]\n",
            "       if(j%2==0) xp=x; else if\u001b[01;35m\u001b[K(\u001b[m\u001b[Kxp<x) { ys=0; ye=h-1; }\n",
            "                               \u001b[01;35m\u001b[K^\u001b[m\u001b[K\n",
            "x86_64-linux-gnu-gcc -pthread -DNDEBUG -g -fwrapv -O2 -Wall -g -fstack-protector-strong -Wformat -Werror=format-security -Wdate-time -D_FORTIFY_SOURCE=2 -fPIC -I/usr/local/lib/python3.6/dist-packages/numpy/core/include -I../common -I/usr/include/python3.6m -c pycocotools/_mask.c -o build/temp.linux-x86_64-3.6/pycocotools/_mask.o -Wno-cpp -Wno-unused-function -std=c99\n",
            "creating build/lib.linux-x86_64-3.6\n",
            "creating build/lib.linux-x86_64-3.6/pycocotools\n",
            "x86_64-linux-gnu-gcc -pthread -shared -Wl,-O1 -Wl,-Bsymbolic-functions -Wl,-Bsymbolic-functions -Wl,-z,relro -Wl,-Bsymbolic-functions -Wl,-z,relro -g -fstack-protector-strong -Wformat -Werror=format-security -Wdate-time -D_FORTIFY_SOURCE=2 build/temp.linux-x86_64-3.6/../common/maskApi.o build/temp.linux-x86_64-3.6/pycocotools/_mask.o -o build/lib.linux-x86_64-3.6/pycocotools/_mask.cpython-36m-x86_64-linux-gnu.so\n",
            "copying build/lib.linux-x86_64-3.6/pycocotools/_mask.cpython-36m-x86_64-linux-gnu.so -> pycocotools\n",
            "rm -rf build\n",
            "/content\n"
          ],
          "name": "stdout"
        }
      ]
    },
    {
      "cell_type": "markdown",
      "metadata": {
        "colab_type": "text",
        "id": "Xbfv4BQsoS5Q"
      },
      "source": [
        "#### Protobuf Compilation and Object Detection API installation"
      ]
    },
    {
      "cell_type": "code",
      "metadata": {
        "id": "DyVcTEgK4bnI",
        "colab_type": "code",
        "colab": {
          "base_uri": "https://localhost:8080/",
          "height": 0
        },
        "outputId": "b3667acf-39f6-4d84-9fde-9fb7f56ccef9"
      },
      "source": [
        "%%bash\n",
        "cd models/research/\n",
        "protoc object_detection/protos/*.proto --python_out=.\n",
        "\n",
        "! cp object_detection/packages/tf1/setup.py .\n",
        "! python -m pip install ."
      ],
      "execution_count": 4,
      "outputs": [
        {
          "output_type": "stream",
          "text": [
            "Processing /content/models/research\n",
            "Collecting apache-beam\n",
            "  Downloading https://files.pythonhosted.org/packages/0a/7c/743b8053e054ddeaa026ab2108447becf80bd3b24dc29bd02a2bee47ab56/apache_beam-2.22.0-cp36-cp36m-manylinux1_x86_64.whl (3.4MB)\n",
            "Requirement already satisfied: pillow in /usr/local/lib/python3.6/dist-packages (from object-detection==0.1) (7.2.0)\n",
            "Requirement already satisfied: lxml in /usr/local/lib/python3.6/dist-packages (from object-detection==0.1) (4.5.2)\n",
            "Requirement already satisfied: matplotlib in /usr/local/lib/python3.6/dist-packages (from object-detection==0.1) (3.3.0)\n",
            "Requirement already satisfied: Cython in /usr/local/lib/python3.6/dist-packages (from object-detection==0.1) (0.29.21)\n",
            "Requirement already satisfied: contextlib2 in /usr/local/lib/python3.6/dist-packages (from object-detection==0.1) (0.6.0.post1)\n",
            "Collecting tf-slim\n",
            "  Downloading https://files.pythonhosted.org/packages/02/97/b0f4a64df018ca018cc035d44f2ef08f91e2e8aa67271f6f19633a015ff7/tf_slim-1.1.0-py2.py3-none-any.whl (352kB)\n",
            "Requirement already satisfied: six in /usr/local/lib/python3.6/dist-packages (from object-detection==0.1) (1.15.0)\n",
            "Requirement already satisfied: pycocotools in /usr/local/lib/python3.6/dist-packages (from object-detection==0.1) (2.0.1)\n",
            "Requirement already satisfied: scipy in /usr/local/lib/python3.6/dist-packages (from object-detection==0.1) (1.4.1)\n",
            "Requirement already satisfied: pandas in /usr/local/lib/python3.6/dist-packages (from object-detection==0.1) (1.0.5)\n",
            "Collecting oauth2client<4,>=2.0.1\n",
            "  Downloading https://files.pythonhosted.org/packages/c0/7b/bc893e35d6ca46a72faa4b9eaac25c687ce60e1fbe978993fe2de1b0ff0d/oauth2client-3.0.0.tar.gz (77kB)\n",
            "Collecting mock<3.0.0,>=1.0.1\n",
            "  Downloading https://files.pythonhosted.org/packages/e6/35/f187bdf23be87092bd0f1200d43d23076cee4d0dec109f195173fd3ebc79/mock-2.0.0-py2.py3-none-any.whl (56kB)\n",
            "Requirement already satisfied: typing-extensions<3.8.0,>=3.7.0 in /usr/local/lib/python3.6/dist-packages (from apache-beam->object-detection==0.1) (3.7.4.2)\n",
            "Collecting avro-python3!=1.9.2,<1.10.0,>=1.8.1; python_version >= \"3.0\"\n",
            "  Downloading https://files.pythonhosted.org/packages/5a/80/acd1455bea0a9fcdc60a748a97dcbb3ff624726fb90987a0fc1c19e7a5a5/avro-python3-1.9.2.1.tar.gz\n",
            "Collecting pyarrow<0.18.0,>=0.15.1; python_version >= \"3.0\" or platform_system != \"Windows\"\n",
            "  Downloading https://files.pythonhosted.org/packages/ba/3f/6cac1714fff444664603f92cb9fbe91c7ae25375880158b9e9691c4584c8/pyarrow-0.17.1-cp36-cp36m-manylinux2014_x86_64.whl (63.8MB)\n",
            "Requirement already satisfied: pydot<2,>=1.2.0 in /usr/local/lib/python3.6/dist-packages (from apache-beam->object-detection==0.1) (1.3.0)\n",
            "Requirement already satisfied: crcmod<2.0,>=1.7 in /usr/local/lib/python3.6/dist-packages (from apache-beam->object-detection==0.1) (1.7)\n",
            "Requirement already satisfied: protobuf<4,>=3.5.0.post1 in /usr/local/lib/python3.6/dist-packages (from apache-beam->object-detection==0.1) (3.12.2)\n",
            "Requirement already satisfied: grpcio<2,>=1.12.1 in /usr/local/lib/python3.6/dist-packages (from apache-beam->object-detection==0.1) (1.30.0)\n",
            "Collecting dill<0.3.2,>=0.3.1.1\n",
            "  Downloading https://files.pythonhosted.org/packages/c7/11/345f3173809cea7f1a193bfbf02403fff250a3360e0e118a1630985e547d/dill-0.3.1.1.tar.gz (151kB)\n",
            "Collecting hdfs<3.0.0,>=2.1.0\n",
            "  Downloading https://files.pythonhosted.org/packages/82/39/2c0879b1bcfd1f6ad078eb210d09dbce21072386a3997074ee91e60ddc5a/hdfs-2.5.8.tar.gz (41kB)\n",
            "Requirement already satisfied: pymongo<4.0.0,>=3.8.0 in /usr/local/lib/python3.6/dist-packages (from apache-beam->object-detection==0.1) (3.10.1)\n",
            "Requirement already satisfied: httplib2<0.18.0,>=0.8 in /usr/local/lib/python3.6/dist-packages (from apache-beam->object-detection==0.1) (0.17.4)\n",
            "Collecting future<1.0.0,>=0.18.2\n",
            "  Downloading https://files.pythonhosted.org/packages/45/0b/38b06fd9b92dc2b68d58b75f900e97884c45bedd2ff83203d933cf5851c9/future-0.18.2.tar.gz (829kB)\n",
            "Collecting fastavro<0.24,>=0.21.4\n",
            "  Downloading https://files.pythonhosted.org/packages/98/8e/1d62398df5569a805d956bd96df1b2c06f973e8d3f1f7489adf9c58b2824/fastavro-0.23.6-cp36-cp36m-manylinux2010_x86_64.whl (1.4MB)\n",
            "Requirement already satisfied: pytz>=2018.3 in /usr/local/lib/python3.6/dist-packages (from apache-beam->object-detection==0.1) (2018.9)\n",
            "Requirement already satisfied: python-dateutil<3,>=2.8.0 in /usr/local/lib/python3.6/dist-packages (from apache-beam->object-detection==0.1) (2.8.1)\n",
            "Requirement already satisfied: numpy<2,>=1.14.3 in /usr/local/lib/python3.6/dist-packages (from apache-beam->object-detection==0.1) (1.18.5)\n",
            "Requirement already satisfied: cycler>=0.10 in /usr/local/lib/python3.6/dist-packages (from matplotlib->object-detection==0.1) (0.10.0)\n",
            "Requirement already satisfied: pyparsing!=2.0.4,!=2.1.2,!=2.1.6,>=2.0.3 in /usr/local/lib/python3.6/dist-packages (from matplotlib->object-detection==0.1) (2.4.7)\n",
            "Requirement already satisfied: kiwisolver>=1.0.1 in /usr/local/lib/python3.6/dist-packages (from matplotlib->object-detection==0.1) (1.2.0)\n",
            "Requirement already satisfied: absl-py>=0.2.2 in /usr/local/lib/python3.6/dist-packages (from tf-slim->object-detection==0.1) (0.9.0)\n",
            "Requirement already satisfied: setuptools>=18.0 in /usr/local/lib/python3.6/dist-packages (from pycocotools->object-detection==0.1) (49.1.0)\n",
            "Requirement already satisfied: pyasn1>=0.1.7 in /usr/local/lib/python3.6/dist-packages (from oauth2client<4,>=2.0.1->apache-beam->object-detection==0.1) (0.4.8)\n",
            "Requirement already satisfied: pyasn1-modules>=0.0.5 in /usr/local/lib/python3.6/dist-packages (from oauth2client<4,>=2.0.1->apache-beam->object-detection==0.1) (0.2.8)\n",
            "Requirement already satisfied: rsa>=3.1.4 in /usr/local/lib/python3.6/dist-packages (from oauth2client<4,>=2.0.1->apache-beam->object-detection==0.1) (4.6)\n",
            "Collecting pbr>=0.11\n",
            "  Downloading https://files.pythonhosted.org/packages/96/ba/aa953a11ec014b23df057ecdbc922fdb40ca8463466b1193f3367d2711a6/pbr-5.4.5-py2.py3-none-any.whl (110kB)\n",
            "Requirement already satisfied: docopt in /usr/local/lib/python3.6/dist-packages (from hdfs<3.0.0,>=2.1.0->apache-beam->object-detection==0.1) (0.6.2)\n",
            "Requirement already satisfied: requests>=2.7.0 in /usr/local/lib/python3.6/dist-packages (from hdfs<3.0.0,>=2.1.0->apache-beam->object-detection==0.1) (2.23.0)\n",
            "Requirement already satisfied: idna<3,>=2.5 in /usr/local/lib/python3.6/dist-packages (from requests>=2.7.0->hdfs<3.0.0,>=2.1.0->apache-beam->object-detection==0.1) (2.10)\n",
            "Requirement already satisfied: chardet<4,>=3.0.2 in /usr/local/lib/python3.6/dist-packages (from requests>=2.7.0->hdfs<3.0.0,>=2.1.0->apache-beam->object-detection==0.1) (3.0.4)\n",
            "Requirement already satisfied: urllib3!=1.25.0,!=1.25.1,<1.26,>=1.21.1 in /usr/local/lib/python3.6/dist-packages (from requests>=2.7.0->hdfs<3.0.0,>=2.1.0->apache-beam->object-detection==0.1) (1.24.3)\n",
            "Requirement already satisfied: certifi>=2017.4.17 in /usr/local/lib/python3.6/dist-packages (from requests>=2.7.0->hdfs<3.0.0,>=2.1.0->apache-beam->object-detection==0.1) (2020.6.20)\n",
            "Building wheels for collected packages: object-detection, oauth2client, avro-python3, dill, hdfs, future\n",
            "  Building wheel for object-detection (setup.py): started\n",
            "  Building wheel for object-detection (setup.py): finished with status 'done'\n",
            "  Created wheel for object-detection: filename=object_detection-0.1-cp36-none-any.whl size=1539205 sha256=7e89f035f526f083c01e6859f3a90a21a9dbfd4510a5a83c0dbddd58ae210955\n",
            "  Stored in directory: /tmp/pip-ephem-wheel-cache-0b0eujmu/wheels/94/49/4b/39b051683087a22ef7e80ec52152a27249d1a644ccf4e442ea\n",
            "  Building wheel for oauth2client (setup.py): started\n",
            "  Building wheel for oauth2client (setup.py): finished with status 'done'\n",
            "  Created wheel for oauth2client: filename=oauth2client-3.0.0-cp36-none-any.whl size=106382 sha256=54ba4759a152f0ed73138975c23afeb704e94f9425e9df8c10435a1ebf6f5ed3\n",
            "  Stored in directory: /root/.cache/pip/wheels/48/f7/87/b932f09c6335dbcf45d916937105a372ab14f353a9ca431d7d\n",
            "  Building wheel for avro-python3 (setup.py): started\n",
            "  Building wheel for avro-python3 (setup.py): finished with status 'done'\n",
            "  Created wheel for avro-python3: filename=avro_python3-1.9.2.1-cp36-none-any.whl size=43516 sha256=d3ab6918678b75ebb94fb6c39a608e4120583a4c6444410a80174be83d5bec87\n",
            "  Stored in directory: /root/.cache/pip/wheels/5a/d3/be/86620c9dd3fca68986c33b9c616510289fc0abb81ec9aa70bd\n",
            "  Building wheel for dill (setup.py): started\n",
            "  Building wheel for dill (setup.py): finished with status 'done'\n",
            "  Created wheel for dill: filename=dill-0.3.1.1-cp36-none-any.whl size=78532 sha256=aa375dbc377e414cf12807d9222315053a91691a596270c9af6bfc7cd16e43fa\n",
            "  Stored in directory: /root/.cache/pip/wheels/59/b1/91/f02e76c732915c4015ab4010f3015469866c1eb9b14058d8e7\n",
            "  Building wheel for hdfs (setup.py): started\n",
            "  Building wheel for hdfs (setup.py): finished with status 'done'\n",
            "  Created wheel for hdfs: filename=hdfs-2.5.8-cp36-none-any.whl size=33213 sha256=a8395a3a134342b3784f5dac74aa05634150ea438d02fd221bfa9dabea38c28f\n",
            "  Stored in directory: /root/.cache/pip/wheels/fe/a7/05/23e3699975fc20f8a30e00ac1e515ab8c61168e982abe4ce70\n",
            "  Building wheel for future (setup.py): started\n",
            "  Building wheel for future (setup.py): finished with status 'done'\n",
            "  Created wheel for future: filename=future-0.18.2-cp36-none-any.whl size=491057 sha256=2fc847908a9d864b00786e4b92cd32301fcb8db8a3c8864a5624bb319ded1567\n",
            "  Stored in directory: /root/.cache/pip/wheels/8b/99/a0/81daf51dcd359a9377b110a8a886b3895921802d2fc1b2397e\n",
            "Successfully built object-detection oauth2client avro-python3 dill hdfs future\n",
            "Installing collected packages: oauth2client, pbr, mock, avro-python3, pyarrow, dill, hdfs, future, fastavro, apache-beam, tf-slim, object-detection\n",
            "  Found existing installation: oauth2client 4.1.3\n",
            "    Uninstalling oauth2client-4.1.3:\n",
            "      Successfully uninstalled oauth2client-4.1.3\n",
            "  Found existing installation: pyarrow 0.14.1\n",
            "    Uninstalling pyarrow-0.14.1:\n",
            "      Successfully uninstalled pyarrow-0.14.1\n",
            "  Found existing installation: dill 0.3.2\n",
            "    Uninstalling dill-0.3.2:\n",
            "      Successfully uninstalled dill-0.3.2\n",
            "  Found existing installation: future 0.16.0\n",
            "    Uninstalling future-0.16.0:\n",
            "      Successfully uninstalled future-0.16.0\n",
            "Successfully installed apache-beam-2.22.0 avro-python3-1.9.2.1 dill-0.3.1.1 fastavro-0.23.6 future-0.18.2 hdfs-2.5.8 mock-2.0.0 oauth2client-3.0.0 object-detection-0.1 pbr-5.4.5 pyarrow-0.17.1 tf-slim-1.1.0\n"
          ],
          "name": "stdout"
        },
        {
          "output_type": "stream",
          "text": [
            "object_detection/protos/input_reader.proto: warning: Import object_detection/protos/image_resizer.proto but not used.\n",
            "ERROR: pydrive 1.3.1 has requirement oauth2client>=4.0.0, but you'll have oauth2client 3.0.0 which is incompatible.\n",
            "ERROR: multiprocess 0.70.10 has requirement dill>=0.3.2, but you'll have dill 0.3.1.1 which is incompatible.\n"
          ],
          "name": "stderr"
        }
      ]
    },
    {
      "cell_type": "code",
      "metadata": {
        "colab_type": "code",
        "id": "gK7vHfbqrEdq",
        "cellView": "form",
        "colab": {}
      },
      "source": [
        "#@title\n",
        "# !wget -qnc https://github.com/protocolbuffers/protobuf/releases/download/v3.12.3/protoc-3.12.3-linux-x86_64.zip\n",
        "\n",
        "# !unzip -qq protoc-3.12.3-linux-x86_64.zip\n",
        "\n",
        "# %cp bin/protoc models/research\n",
        "# %cd models/research\n",
        "\n",
        "# import os\n",
        "# import sys\n",
        "# directory = 'object_detection/protos'\n",
        "# protoc_path = './protoc'\n",
        "# for file in os.listdir(directory):\n",
        "#     if file.endswith(\".proto\"):\n",
        "#         os.system(f\"{protoc_path} {directory}/{file} --python_out=.\")\n",
        "\n",
        "# %ls object_detection/protos/\n",
        "\n",
        "# !python setup.py build\n",
        "# !python setup.py install"
      ],
      "execution_count": 5,
      "outputs": []
    },
    {
      "cell_type": "markdown",
      "metadata": {
        "id": "GXn_ulrB5xWC",
        "colab_type": "text"
      },
      "source": [
        "## Set paths"
      ]
    },
    {
      "cell_type": "code",
      "metadata": {
        "id": "zOWKikrAUF_6",
        "colab_type": "code",
        "colab": {}
      },
      "source": [
        "! export PYTHONPATH=$PYTHONPATH:/content/models/research\n",
        "! export PYTHONPATH=$PYTHONPATH:/content/models/research/object_detection\n",
        "! export PYTHONPATH=$PYTHONPATH:/content/models/research/slim"
      ],
      "execution_count": 6,
      "outputs": []
    },
    {
      "cell_type": "code",
      "metadata": {
        "id": "EbS-kBeW4nek",
        "colab_type": "code",
        "colab": {
          "base_uri": "https://localhost:8080/",
          "height": 0
        },
        "outputId": "f930ff92-093f-492c-8f7d-37bde8771775"
      },
      "source": [
        "! python models/research/object_detection/builders/model_builder_tf1_test.py"
      ],
      "execution_count": 7,
      "outputs": [
        {
          "output_type": "stream",
          "text": [
            "Running tests under Python 3.6.9: /usr/bin/python3\n",
            "[ RUN      ] ModelBuilderTF1Test.test_create_context_rcnn_from_config_with_params(True)\n",
            "[       OK ] ModelBuilderTF1Test.test_create_context_rcnn_from_config_with_params(True)\n",
            "[ RUN      ] ModelBuilderTF1Test.test_create_context_rcnn_from_config_with_params(False)\n",
            "[       OK ] ModelBuilderTF1Test.test_create_context_rcnn_from_config_with_params(False)\n",
            "[ RUN      ] ModelBuilderTF1Test.test_create_experimental_model\n",
            "[       OK ] ModelBuilderTF1Test.test_create_experimental_model\n",
            "[ RUN      ] ModelBuilderTF1Test.test_create_faster_rcnn_from_config_with_crop_feature(True)\n",
            "[       OK ] ModelBuilderTF1Test.test_create_faster_rcnn_from_config_with_crop_feature(True)\n",
            "[ RUN      ] ModelBuilderTF1Test.test_create_faster_rcnn_from_config_with_crop_feature(False)\n",
            "[       OK ] ModelBuilderTF1Test.test_create_faster_rcnn_from_config_with_crop_feature(False)\n",
            "[ RUN      ] ModelBuilderTF1Test.test_create_faster_rcnn_model_from_config_with_example_miner\n",
            "[       OK ] ModelBuilderTF1Test.test_create_faster_rcnn_model_from_config_with_example_miner\n",
            "[ RUN      ] ModelBuilderTF1Test.test_create_faster_rcnn_models_from_config_faster_rcnn_with_matmul\n",
            "[       OK ] ModelBuilderTF1Test.test_create_faster_rcnn_models_from_config_faster_rcnn_with_matmul\n",
            "[ RUN      ] ModelBuilderTF1Test.test_create_faster_rcnn_models_from_config_faster_rcnn_without_matmul\n",
            "[       OK ] ModelBuilderTF1Test.test_create_faster_rcnn_models_from_config_faster_rcnn_without_matmul\n",
            "[ RUN      ] ModelBuilderTF1Test.test_create_faster_rcnn_models_from_config_mask_rcnn_with_matmul\n",
            "[       OK ] ModelBuilderTF1Test.test_create_faster_rcnn_models_from_config_mask_rcnn_with_matmul\n",
            "[ RUN      ] ModelBuilderTF1Test.test_create_faster_rcnn_models_from_config_mask_rcnn_without_matmul\n",
            "[       OK ] ModelBuilderTF1Test.test_create_faster_rcnn_models_from_config_mask_rcnn_without_matmul\n",
            "[ RUN      ] ModelBuilderTF1Test.test_create_rfcn_model_from_config\n",
            "[       OK ] ModelBuilderTF1Test.test_create_rfcn_model_from_config\n",
            "[ RUN      ] ModelBuilderTF1Test.test_create_ssd_fpn_model_from_config\n",
            "[       OK ] ModelBuilderTF1Test.test_create_ssd_fpn_model_from_config\n",
            "[ RUN      ] ModelBuilderTF1Test.test_create_ssd_models_from_config\n",
            "[       OK ] ModelBuilderTF1Test.test_create_ssd_models_from_config\n",
            "[ RUN      ] ModelBuilderTF1Test.test_invalid_faster_rcnn_batchnorm_update\n",
            "[       OK ] ModelBuilderTF1Test.test_invalid_faster_rcnn_batchnorm_update\n",
            "[ RUN      ] ModelBuilderTF1Test.test_invalid_first_stage_nms_iou_threshold\n",
            "[       OK ] ModelBuilderTF1Test.test_invalid_first_stage_nms_iou_threshold\n",
            "[ RUN      ] ModelBuilderTF1Test.test_invalid_model_config_proto\n",
            "[       OK ] ModelBuilderTF1Test.test_invalid_model_config_proto\n",
            "[ RUN      ] ModelBuilderTF1Test.test_invalid_second_stage_batch_size\n",
            "[       OK ] ModelBuilderTF1Test.test_invalid_second_stage_batch_size\n",
            "[ RUN      ] ModelBuilderTF1Test.test_session\n",
            "[  SKIPPED ] ModelBuilderTF1Test.test_session\n",
            "[ RUN      ] ModelBuilderTF1Test.test_unknown_faster_rcnn_feature_extractor\n",
            "[       OK ] ModelBuilderTF1Test.test_unknown_faster_rcnn_feature_extractor\n",
            "[ RUN      ] ModelBuilderTF1Test.test_unknown_meta_architecture\n",
            "[       OK ] ModelBuilderTF1Test.test_unknown_meta_architecture\n",
            "[ RUN      ] ModelBuilderTF1Test.test_unknown_ssd_feature_extractor\n",
            "[       OK ] ModelBuilderTF1Test.test_unknown_ssd_feature_extractor\n",
            "----------------------------------------------------------------------\n",
            "Ran 21 tests in 0.153s\n",
            "\n",
            "OK (skipped=1)\n"
          ],
          "name": "stdout"
        }
      ]
    },
    {
      "cell_type": "markdown",
      "metadata": {
        "id": "DdcY5rITWZSM",
        "colab_type": "text"
      },
      "source": [
        "# Object detection"
      ]
    },
    {
      "cell_type": "code",
      "metadata": {
        "id": "pGnTejqZ6khr",
        "colab_type": "code",
        "colab": {
          "base_uri": "https://localhost:8080/",
          "height": 33
        },
        "outputId": "e2f5e785-b82a-45e9-efed-bb73390c015e"
      },
      "source": [
        "!pip install -qU silence-tensorflow"
      ],
      "execution_count": 8,
      "outputs": [
        {
          "output_type": "stream",
          "text": [
            "  Building wheel for silence-tensorflow (setup.py) ... \u001b[?25l\u001b[?25hdone\n"
          ],
          "name": "stdout"
        }
      ]
    },
    {
      "cell_type": "markdown",
      "metadata": {
        "id": "jrWUdgzczn9Z",
        "colab_type": "text"
      },
      "source": [
        "## SETUP"
      ]
    },
    {
      "cell_type": "code",
      "metadata": {
        "id": "yuuajZP1QaHm",
        "colab_type": "code",
        "cellView": "form",
        "colab": {}
      },
      "source": [
        "#@title imports\n",
        "\n",
        "import silence_tensorflow\n",
        "\n",
        "import object_detection\n",
        "import shutil\n",
        "import os\n",
        "import tarfile\n",
        "import six.moves.urllib as urllib\n",
        "import tensorflow as tf\n",
        "ROOT_DIR = '/content'\n",
        "\n",
        "os.chdir(ROOT_DIR)"
      ],
      "execution_count": 9,
      "outputs": []
    },
    {
      "cell_type": "code",
      "metadata": {
        "id": "VGBFkIWIbxDt",
        "colab_type": "code",
        "colab": {}
      },
      "source": [
        "# ---- MOBILEDET CPU\n",
        "MODEL_TYPE = 'ssdlite_mobiledet_cpu_320x320_coco_2020_05_19'\n",
        "CONFIG_TYPE = 'ssdlite_mobiledet_cpu_320x320_coco_sync_4x4'\n",
        "\n",
        "# ---- MOBILEDET GPU\n",
        "# MODEL_TYPE = 'ssdlite_mobiledet_cpu_320x320_coco_2020_05_19'\n",
        "# CONFIG_TYPE = 'ssdlite_mobiledet_gpu_320x320_coco_sync_4x4'\n",
        "\n",
        "# ---- MOBILENET V3 - LARGE \n",
        "# MODEL_TYPE = 'ssd_mobilenet_v3_large_coco_2020_01_14'\n",
        "# CONFIG_TYPE = 'ssdlite_mobilenet_v3_large_320x320_coco'\n",
        "\n",
        "# ---- MOBILENET V3 = SMALL \n",
        "# MODEL_TYPE = 'ssd_mobilenet_v3_small_coco_2020_01_14'\n",
        "# CONFIG_TYPE = 'ssdlite_mobilenet_v3_small_320x320_coco'\n",
        "\n",
        "# ---- INCEPTIONV2\n",
        "# MODEL_TYPE = 'ssd_inception_v2_coco_2018_01_28'\n",
        "# CONFIG_TYPE = 'ssd_inception_v2_coco'\n",
        "\n",
        "# ---- MOBILENET V2\n",
        "# MODEL_TYPE = 'ssd_mobilenet_v2_coco_2018_03_29'\n",
        "# CONFIG_TYPE = 'ssd_mobilenet_v2_coco'\n",
        " \n",
        "NUM_TRAIN_STEPS =  70000"
      ],
      "execution_count": 10,
      "outputs": []
    },
    {
      "cell_type": "code",
      "metadata": {
        "id": "91eJtDwkbyV6",
        "colab_type": "code",
        "cellView": "form",
        "colab": {}
      },
      "source": [
        "#@title Image_sizes\n",
        "IMAGE_SIZE = {\n",
        "    'ssdlite_mobiledet_cpu_320x320_coco_2020_05_19': 320,\n",
        "    'ssdlite_mobiledet_gpu_320x320_coco_2020_05_19': 320,\n",
        "    'ssd_mobilenet_v3_large_coco_2020_01_14': 320,\n",
        "    'ssd_mobilenet_v3_small_coco_2020_01_14': 320,\n",
        "    'ssd_inception_v2_coco_2018_01_28': 300,\n",
        "    'ssd_mobilenet_v2_coco_2018_03_29': 300,\n",
        "}"
      ],
      "execution_count": 11,
      "outputs": []
    },
    {
      "cell_type": "code",
      "metadata": {
        "id": "0gwg3QBr7I4G",
        "colab_type": "code",
        "cellView": "form",
        "colab": {}
      },
      "source": [
        "#@title path setup\n",
        "IM_SZE = IMAGE_SIZE[MODEL_TYPE]\n",
        "\n",
        "WORKSPACE_PATH  = '/content/workspace/'\n",
        "CHECKPOINT_PATH = '/content/workspace/checkpoint'\n",
        "OUTPUT_PATH     = '/content/workspace/output'\n",
        "EXPORTED_PATH   = '/content/workspace/exported'\n",
        "ANNOTATIONS_PATH = '/content/workspace/annotations'\n",
        "IMAGES_PATH = f'/content/workspace/Images_{IM_SZE}'\n",
        "\n",
        "LABEL_MAP_PATH      = os.path.join(WORKSPACE_PATH, 'label_map.pbtxt')\n",
        "TRAIN_CSV_PATH      = os.path.join(ANNOTATIONS_PATH, f'training_{IM_SZE}.csv')\n",
        "VALID_CSV_PATH      = os.path.join(ANNOTATIONS_PATH, f'validation_{IM_SZE}.csv')\n",
        "TRAIN_RECORD_PATH   = os.path.join(ANNOTATIONS_PATH, f'train_{IM_SZE}.record')\n",
        "VALID_RECORD_PATH   = os.path.join(ANNOTATIONS_PATH, f'val_{IM_SZE}.record')"
      ],
      "execution_count": 12,
      "outputs": []
    },
    {
      "cell_type": "code",
      "metadata": {
        "id": "pJnReBO4Xi44",
        "colab_type": "code",
        "cellView": "form",
        "colab": {}
      },
      "source": [
        "#@title initiate directory \n",
        "if os.path.isdir(WORKSPACE_PATH):\n",
        "    shutil.rmtree(WORKSPACE_PATH)    \n",
        "\n",
        "os.makedirs(WORKSPACE_PATH)\n",
        "os.makedirs(OUTPUT_PATH)\n",
        "os.makedirs(EXPORTED_PATH)"
      ],
      "execution_count": 13,
      "outputs": []
    },
    {
      "cell_type": "code",
      "metadata": {
        "id": "lGXU3f7hbn4I",
        "colab_type": "code",
        "cellView": "form",
        "colab": {
          "base_uri": "https://localhost:8080/",
          "height": 50
        },
        "outputId": "b20f0a98-2543-4b57-8d1a-cdacd0fd8343"
      },
      "source": [
        "#@title download data, configs: detection\n",
        "\n",
        "# https://drive.google.com/file/d/1L_CvmHYL4Z8mYmJZznNDGnB9G1hYMv3P/view?usp=sharing\n",
        "from google_drive_downloader import GoogleDriveDownloader as gdd\n",
        "\n",
        "# gdd.download_file_from_google_drive(file_id='1L_CvmHYL4Z8mYmJZznNDGnB9G1hYMv3P',\n",
        "                                    # dest_path=f'{WORKSPACE_PATH}/SIH_COLAB.zip',\n",
        "                                    # unzip=True)\n",
        "\n",
        "# os.remove(f\"{WORKSPACE_PATH}/SIH_COLAB.zip\")\n",
        "\n",
        "do = \"classification\"\n",
        "# https://drive.google.com/file/d/1w2HtuOr98PhQ_H2hpdaxfC3Ps5RVfVHm/view?usp=sharing\n",
        "if do == \"classification\":\n",
        "    gdd.download_file_from_google_drive(file_id='1w2HtuOr98PhQ_H2hpdaxfC3Ps5RVfVHm',\n",
        "                                    dest_path=f'{WORKSPACE_PATH}/configs_classification.zip',\n",
        "                                    unzip=True)\n",
        "    os.remove(f\"{WORKSPACE_PATH}/configs_classification.zip\")\n",
        "\n",
        "# https://drive.google.com/file/d/1BVMM1cLeQEfMMan_YxdgLGvDjtA0ItDa/view?usp=sharing\n",
        "else:\n",
        "    gdd.download_file_from_google_drive(file_id='1BVMM1cLeQEfMMan_YxdgLGvDjtA0ItDa',\n",
        "                                    dest_path=f'{WORKSPACE_PATH}/configs_detection.zip',\n",
        "                                    unzip=True)\n",
        "    os.remove(f\"{WORKSPACE_PATH}/configs_detection.zip\")\n",
        "\n",
        "\n",
        "!wget -qnc https://raw.githubusercontent.com/Final-Six-SIH2020/Detection-and-Classification/master/Detection/TF1/generate_tfrecords.py -P /content/workspace/\n",
        "\n",
        "CONFIG_PATH = f'/content/workspace/configs_{do}'"
      ],
      "execution_count": 17,
      "outputs": [
        {
          "output_type": "stream",
          "text": [
            "Downloading 1w2HtuOr98PhQ_H2hpdaxfC3Ps5RVfVHm into /content/workspace//configs_classification.zip... Done.\n",
            "Unzipping...Done.\n"
          ],
          "name": "stdout"
        }
      ]
    },
    {
      "cell_type": "code",
      "metadata": {
        "id": "aHDjFEPlcB20",
        "colab_type": "code",
        "cellView": "form",
        "colab": {
          "base_uri": "https://localhost:8080/",
          "height": 50
        },
        "outputId": "a038e98c-4721-44cd-b4c8-5b68ff5f232c"
      },
      "source": [
        "#@title generate tfrecords\n",
        "! python /content/workspace/generate_tfrecords.py --csv_input={TRAIN_CSV_PATH} --output_path={TRAIN_RECORD_PATH} --img_path={IMAGES_PATH}\n",
        "! python /content/workspace/generate_tfrecords.py --csv_input={VALID_CSV_PATH} --output_path={VALID_RECORD_PATH} --img_path={IMAGES_PATH}"
      ],
      "execution_count": 18,
      "outputs": [
        {
          "output_type": "stream",
          "text": [
            "Successfully created the TFRecords: /content/workspace/annotations/train_320.record\n",
            "Successfully created the TFRecords: /content/workspace/annotations/val_320.record\n"
          ],
          "name": "stdout"
        }
      ]
    },
    {
      "cell_type": "code",
      "metadata": {
        "id": "AS-IezXhAzK2",
        "colab_type": "code",
        "cellView": "form",
        "colab": {
          "base_uri": "https://localhost:8080/",
          "height": 502
        },
        "outputId": "0428cb72-5994-4347-8039-1c4d803537fc"
      },
      "source": [
        "#@title Generate a Label Map\n",
        "labels = {\n",
        "        1: 'Bus',\n",
        "        2: 'Car',\n",
        "        3: 'speed_sign',\n",
        "        4: 'Stop_sign',\n",
        "        5: 'Traffic_light',\n",
        "        6: 'Traffic_sign',\n",
        "        7: 'Person'\n",
        "}\n",
        "\n",
        "\n",
        "with open(LABEL_MAP_PATH, 'w') as f:\n",
        "    # Loop through all of the labels and write each label to the file with an id\n",
        "    for key, val in labels.items():\n",
        "        f.write('item {\\n')\n",
        "        f.write(f\"\\tid: {key}\\n\")\n",
        "        f.write(f\"\\tname: '{val}'\\n\")\n",
        "        f.write('}\\n')\n",
        "\n",
        "\n",
        "with open(LABEL_MAP_PATH) as f:\n",
        "    print(f.read())"
      ],
      "execution_count": 19,
      "outputs": [
        {
          "output_type": "stream",
          "text": [
            "item {\n",
            "\tid: 1\n",
            "\tname: 'Bus'\n",
            "}\n",
            "item {\n",
            "\tid: 2\n",
            "\tname: 'Car'\n",
            "}\n",
            "item {\n",
            "\tid: 3\n",
            "\tname: 'speed_sign'\n",
            "}\n",
            "item {\n",
            "\tid: 4\n",
            "\tname: 'Stop_sign'\n",
            "}\n",
            "item {\n",
            "\tid: 5\n",
            "\tname: 'Traffic_light'\n",
            "}\n",
            "item {\n",
            "\tid: 6\n",
            "\tname: 'Traffic_sign'\n",
            "}\n",
            "item {\n",
            "\tid: 7\n",
            "\tname: 'Person'\n",
            "}\n",
            "\n"
          ],
          "name": "stdout"
        }
      ]
    },
    {
      "cell_type": "code",
      "metadata": {
        "id": "KFZCp8CPBhHl",
        "colab_type": "code",
        "colab": {},
        "cellView": "form"
      },
      "source": [
        "#@title Download model and save checkpoint\n",
        "\n",
        "download_base = 'http://download.tensorflow.org/models/object_detection/'\n",
        "model = MODEL_TYPE + '.tar.gz'\n",
        "tmp = '/content/checkpoint.tar.gz'\n",
        "\n",
        "if not os.path.exists(CHECKPOINT_PATH):\n",
        "  # Download the checkpoint\n",
        "  opener = urllib.request.URLopener()\n",
        "  opener.retrieve(download_base + model, tmp)\n",
        "\n",
        "  # Extract all the `model.ckpt` files.\n",
        "  with tarfile.open(tmp) as tar:\n",
        "    for member in tar.getmembers():\n",
        "      member.name = os.path.basename(member.name)\n",
        "      if 'model.ckpt' in member.name:\n",
        "        tar.extract(member, path=CHECKPOINT_PATH)\n",
        "\n",
        "  os.remove(tmp)"
      ],
      "execution_count": 20,
      "outputs": []
    },
    {
      "cell_type": "code",
      "metadata": {
        "id": "annilzUwii6r",
        "colab_type": "code",
        "colab": {},
        "cellView": "form"
      },
      "source": [
        "#@title Update CONFIG file parameters\n",
        "\n",
        "import re\n",
        "from google.protobuf import text_format\n",
        "from object_detection.utils import config_util\n",
        "from object_detection.utils import label_map_util\n",
        "\n",
        "\n",
        "pipeline_skeleton = f'{CONFIG_PATH}/{CONFIG_TYPE}.config'\n",
        "configs = config_util.get_configs_from_pipeline_file(pipeline_skeleton)\n",
        "\n",
        "label_map = label_map_util.get_label_map_dict(LABEL_MAP_PATH)\n",
        "num_classes = len(labels.keys())\n",
        "meta_arch = configs[\"model\"].WhichOneof(\"model\")\n",
        "\n",
        "override_dict = {\n",
        "  'model.{}.num_classes'.format(meta_arch): num_classes,\n",
        "  'train_config.batch_size': 24,\n",
        "  'train_input_path': TRAIN_RECORD_PATH,\n",
        "  'eval_input_path': VALID_RECORD_PATH,\n",
        "  'train_config.fine_tune_checkpoint': os.path.join(CHECKPOINT_PATH, 'model.ckpt'),\n",
        "  'label_map_path': LABEL_MAP_PATH\n",
        "}\n",
        "\n",
        "configs = config_util.merge_external_params_with_configs(configs, kwargs_dict=override_dict)\n",
        "pipeline_config = config_util.create_pipeline_proto_from_configs(configs)\n",
        "config_util.save_pipeline_config(pipeline_config, WORKSPACE_PATH)\n",
        "\n",
        "# with open(f'{WORKSPACE_PATH}/pipeline.config') as f:\n",
        "#     print(f.read())"
      ],
      "execution_count": null,
      "outputs": []
    },
    {
      "cell_type": "markdown",
      "metadata": {
        "id": "oOazDael2C43",
        "colab_type": "text"
      },
      "source": [
        "## Training"
      ]
    },
    {
      "cell_type": "code",
      "metadata": {
        "id": "PoAfqklY14x_",
        "colab_type": "code",
        "colab": {}
      },
      "source": [
        "!pip install -qU tensorboardcolab"
      ],
      "execution_count": 22,
      "outputs": []
    },
    {
      "cell_type": "code",
      "metadata": {
        "id": "O05VK__-y86f",
        "colab_type": "code",
        "colab": {}
      },
      "source": [
        "! rm -rf {OUTPUT_PATH}\n",
        "!python -m object_detection.model_main \\\n",
        "    --alsologtostderr \\\n",
        "    --pipeline_config_path=$WORKSPACE_PATH/pipeline.config \\\n",
        "    --model_dir=$OUTPUT_PATH \\\n",
        "    --num_train_steps=$NUM_TRAIN_STEPS \\"
      ],
      "execution_count": null,
      "outputs": []
    },
    {
      "cell_type": "code",
      "metadata": {
        "id": "TQeIYvUk50B6",
        "colab_type": "code",
        "colab": {}
      },
      "source": [
        "%reload_ext tensorboard\n",
        "%tensorboard --logdir $OUTPUT_PATH"
      ],
      "execution_count": null,
      "outputs": []
    },
    {
      "cell_type": "markdown",
      "metadata": {
        "id": "_dwLqV669PvC",
        "colab_type": "text"
      },
      "source": [
        "## Export graph"
      ]
    },
    {
      "cell_type": "code",
      "metadata": {
        "id": "4NUxBYo92U_P",
        "colab_type": "code",
        "colab": {
          "base_uri": "https://localhost:8080/",
          "height": 34
        },
        "outputId": "706c4e1b-f0f4-47ca-d09e-be00432322da"
      },
      "source": [
        "import os\n",
        "import re\n",
        "\n",
        "# regex = re.compile(r\"model\\.ckpt-([0-9]+)\\.index\")\n",
        "# numbers = [int(regex.search(f).group(1)) for f in os.listdir(OUTPUT_PATH) if regex.search(f)]\n",
        "# TRAINED_CHECKPOINT_PREFIX = os.path.join(OUTPUT_PATH, 'model.ckpt-{}'.format(max(numbers)))\n",
        "TRAINED_CHECKPOINT_PREFIX  = os.path.join(OUTPUT_PATH, 'model.ckpt-24902')\n",
        "print(f'Using {TRAINED_CHECKPOINT_PREFIX}')"
      ],
      "execution_count": null,
      "outputs": [
        {
          "output_type": "stream",
          "text": [
            "Using /content/workspace/output/model.ckpt-24902\n"
          ],
          "name": "stdout"
        }
      ]
    },
    {
      "cell_type": "markdown",
      "metadata": {
        "id": "Cp8btNy0v7C-",
        "colab_type": "text"
      },
      "source": [
        "## Frozen inference graph"
      ]
    },
    {
      "cell_type": "code",
      "metadata": {
        "id": "1fSpIv3K9Rwa",
        "colab_type": "code",
        "colab": {}
      },
      "source": [
        "!rm -rf $EXPORTED_PATH\n",
        "\n",
        "!python -m object_detection.export_inference_graph \\\n",
        "  --pipeline_config_path=$WORKSPACE_PATH/pipeline.config \\\n",
        "  --trained_checkpoint_prefix=$TRAINED_CHECKPOINT_PREFIX \\\n",
        "  --output_directory=$EXPORTED_PATH"
      ],
      "execution_count": null,
      "outputs": []
    },
    {
      "cell_type": "markdown",
      "metadata": {
        "id": "8YP2sQYO5-Wb",
        "colab_type": "text"
      },
      "source": [
        "## Frozen tflite graph and conversion"
      ]
    },
    {
      "cell_type": "code",
      "metadata": {
        "id": "gqDIPK6WMHyr",
        "colab_type": "code",
        "colab": {}
      },
      "source": [
        "!rm -rf tflite_graph\n",
        "\n",
        "!python /content/models/research/object_detection/export_tflite_ssd_graph.py \\\n",
        "    --pipeline_config_path={WORKSPACE_PATH}/pipeline.config \\\n",
        "    --trained_checkpoint_prefix=$TRAINED_CHECKPOINT_PREFIX \\\n",
        "    --output_directory=$WORKSPACE_PATH/tflite_graph \\\n",
        "    --add_postprocessing_op=true"
      ],
      "execution_count": null,
      "outputs": []
    },
    {
      "cell_type": "markdown",
      "metadata": {
        "id": "HF33XNaPLDc-",
        "colab_type": "text"
      },
      "source": [
        "# Generate tflite"
      ]
    },
    {
      "cell_type": "markdown",
      "metadata": {
        "id": "GeFGtq2rtLvv",
        "colab_type": "text"
      },
      "source": [
        " The outputs of the quantized model represents four arrays, named:\n",
        " * TFLite_Detetion_PostProcess    -> detection_boxes\n",
        " * TFLite_Detection_PostProcess:1 -> detection_classes\n",
        " * TFLite_Detection_PostProcess:2 -> detection_scores\n",
        " * TFLite_Detection_PostProcess:3 -> num_detections"
      ]
    },
    {
      "cell_type": "code",
      "metadata": {
        "id": "1PNiKlPKoTx8",
        "colab_type": "code",
        "colab": {}
      },
      "source": [
        "converter = tf.lite.TFLiteConverter.from_frozen_graph('/content/workspace/tflite_graph/tflite_graph.pb', \n",
        "                                                      input_shapes = {'normalized_input_image_tensor':(1, IM_SZE, IM_SZE, 3)},\n",
        "                                                      input_arrays = ['normalized_input_image_tensor'],\n",
        "                                                      output_arrays = ['TFLite_Detection_PostProcess',\n",
        "                                                                       'TFLite_Detection_PostProcess:1',\n",
        "                                                                       'TFLite_Detection_PostProcess:2',\n",
        "                                                                       'TFLite_Detection_PostProcess:3']) \n",
        "converter.allow_custom_ops=True \n",
        "# converter.target_ops = [\n",
        "#                         tf.lite.OpsSet.TFLITE_BUILTINS,\n",
        "#                         tf.lite.OpsSet.SELECT_TF_OPS,\n",
        "\n",
        "# ]\n",
        "converter.optimizations = [\n",
        "                        #    tf.lite.Optimize.DEFAULT,\n",
        "                        #    tf.lite.Optimize.OPTIMIZE_FOR_SIZE,\n",
        "                        #    tf.lite.Optimize.OPTIMIZE_FOR_LATENCY\n",
        "                           ]\n",
        "tflite_model = converter.convert() \n",
        "\n",
        "tf_model_files = f'/content/workspace/{CONFIG_TYPE}.tflite' \n",
        "!rm -rf $tf_model_files\n",
        "open(tf_model_files,\"wb\").write(tflite_model)\n",
        "print(os.path.getsize(f'/content/workspace/{CONFIG_TYPE}.tflite'))"
      ],
      "execution_count": null,
      "outputs": []
    }
  ]
}